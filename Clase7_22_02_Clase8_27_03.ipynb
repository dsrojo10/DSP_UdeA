{
  "nbformat": 4,
  "nbformat_minor": 0,
  "metadata": {
    "colab": {
      "provenance": [],
      "authorship_tag": "ABX9TyMEDDbqM5w2He04cBsHB0fZ",
      "include_colab_link": true
    },
    "kernelspec": {
      "name": "python3",
      "display_name": "Python 3"
    },
    "language_info": {
      "name": "python"
    }
  },
  "cells": [
    {
      "cell_type": "markdown",
      "metadata": {
        "id": "view-in-github",
        "colab_type": "text"
      },
      "source": [
        "<a href=\"https://colab.research.google.com/github/dsrojo10/PDS_UdeA/blob/main/Clase7_22_02_Clase8_27_03.ipynb\" target=\"_parent\"><img src=\"https://colab.research.google.com/assets/colab-badge.svg\" alt=\"Open In Colab\"/></a>"
      ]
    },
    {
      "cell_type": "markdown",
      "source": [
        "# Clase #7 23-Feb-23 & Clase #8 27-Feb-23\n",
        "### David Santiago Rojo C."
      ],
      "metadata": {
        "id": "iMRv1OzBLysn"
      }
    },
    {
      "cell_type": "markdown",
      "source": [
        "# Ejemplos monitor:\n"
      ],
      "metadata": {
        "id": "lEvVBE8nL4nt"
      }
    },
    {
      "cell_type": "markdown",
      "source": [
        "## Ejemplo 1: Transformada Z"
      ],
      "metadata": {
        "id": "pz4TxynrL8XC"
      }
    },
    {
      "cell_type": "code",
      "execution_count": null,
      "metadata": {
        "id": "7SSA7cUcLvJt"
      },
      "outputs": [],
      "source": [
        "from sympy import *\n",
        "import numpy as np\n",
        "import matplotlib.pyplot as plt"
      ]
    },
    {
      "cell_type": "markdown",
      "source": [
        "### Transformada Z de una secuencia."
      ],
      "metadata": {
        "id": "PrKk9Xe1MHpg"
      }
    },
    {
      "cell_type": "code",
      "source": [
        "def transZsec(arr, zero):\n",
        "    # La funcion recibe un arreglo quees al cual se le va a sacar la\n",
        "    # transformada y un dato 'zero' que es la posición del cero de la secuencia.\n",
        "    Z = Symbol('Z')\n",
        "    pot = zero\n",
        "    for i in arr:\n",
        "        print(f'X({-pot}) =', i*np.power(Z, pot))\n",
        "        pot -= 1"
      ],
      "metadata": {
        "id": "SOgpvHZpME3Q"
      },
      "execution_count": null,
      "outputs": []
    },
    {
      "cell_type": "code",
      "source": [
        "arr = np.array([1, 2, 3, 4, 5])\n",
        "arr_trans = transZsec(arr, 2)"
      ],
      "metadata": {
        "colab": {
          "base_uri": "https://localhost:8080/"
        },
        "id": "T6q9t5zhMMfZ",
        "outputId": "3cabdaea-756f-4279-f04d-6510bdc1f34e"
      },
      "execution_count": null,
      "outputs": [
        {
          "output_type": "stream",
          "name": "stdout",
          "text": [
            "X(-2) = Z**2\n",
            "X(-1) = 2*Z\n",
            "X(0) = 3\n",
            "X(1) = 4/Z\n",
            "X(2) = 5/Z**2\n"
          ]
        }
      ]
    },
    {
      "cell_type": "markdown",
      "source": [
        "### Transformada Z de una función de la forma $a^nu(n)$"
      ],
      "metadata": {
        "id": "gMlllJAlMSsI"
      }
    },
    {
      "cell_type": "code",
      "source": [
        "def transZfunc(a, despla, desplu):\n",
        "    # Esta función recibe el valor de a para calcular la\n",
        "    # transformada por medio de la serie geométrica.\n",
        "    Z = Symbol('Z')\n",
        "    result = ''\n",
        "    if (desplu == despla):\n",
        "        result += str(np.power(Z, -desplu)) + '('\n",
        "    if (desplu != 0):\n",
        "        for i in range(desplu):\n",
        "            result += str(-np.power(a/Z, i))\n",
        "    result += '+' + str(1/(1-a*np.power(Z, -1))) + ')'\n",
        "    return result"
      ],
      "metadata": {
        "id": "nuJ02m_-MZkN"
      },
      "execution_count": null,
      "outputs": []
    },
    {
      "cell_type": "markdown",
      "source": [
        "Supongamos que se ingresa: $x(n)=(\\frac{1}{4}^{n-1})u(n-1)$\n",
        "  \n"
      ],
      "metadata": {
        "id": "6r-LsxM9Me3z"
      }
    },
    {
      "cell_type": "code",
      "source": [
        "transZfunc(1/4, 1, 1)"
      ],
      "metadata": {
        "colab": {
          "base_uri": "https://localhost:8080/",
          "height": 35
        },
        "id": "9v33vYOwMcOk",
        "outputId": "24051473-2d97-4ff1-8175-875ca1f35b69"
      },
      "execution_count": null,
      "outputs": [
        {
          "output_type": "execute_result",
          "data": {
            "text/plain": [
              "'1/Z(-1+1/(1 - 0.25/Z))'"
            ],
            "application/vnd.google.colaboratory.intrinsic+json": {
              "type": "string"
            }
          },
          "metadata": {},
          "execution_count": 6
        }
      ]
    },
    {
      "cell_type": "markdown",
      "source": [
        "$X(Z)=-Z^{-1}+\\frac{Z}{1-\\frac{z^-1}{4}}$"
      ],
      "metadata": {
        "id": "UKpsHRCdM-9B"
      }
    },
    {
      "cell_type": "markdown",
      "source": [
        "# Ejemplos mios:"
      ],
      "metadata": {
        "id": "L2nhGqnvNQJl"
      }
    },
    {
      "cell_type": "markdown",
      "source": [
        "En este ejemplo, estamos utilizando la función signal.zpk2tf para convertir los polos y ceros a los coeficientes del numerador y denominador de la función de transferencia. Luego, creamos la función de transferencia utilizando los coeficientes del numerador y denominador, y podemos calcular la respuesta en frecuencia y la fase usando la función signal.bode. La función signal.impulse se puede utilizar para calcular la respuesta al impulso de la función de transferencia.\n",
        "\n",
        "La salida será una figura con tres subplots. El primer subplot muestra la respuesta en frecuencia en dB, el segundo subplot muestra la fase en grados, y el tercer subplot muestra la respuesta al impulso."
      ],
      "metadata": {
        "id": "atctZ5CSqNjq"
      }
    },
    {
      "cell_type": "code",
      "source": [
        "import numpy as np\n",
        "from scipy import signal\n",
        "import matplotlib.pyplot as plt\n",
        "\n",
        "# Definimos los polos y ceros de la función de transferencia\n",
        "zeros = [-1, 2, 3]\n",
        "poles = [0, -2, -4]\n",
        "\n",
        "# Creamos la función de transferencia\n",
        "num, den = signal.zpk2tf(zeros, poles, 1)\n",
        "sys = signal.TransferFunction(num, den)\n",
        "\n",
        "# Calculamos la respuesta en frecuencia\n",
        "w, mag, phase = signal.bode(sys)\n",
        "\n",
        "# Calculamos la respuesta al impulso\n",
        "t, y = signal.impulse(sys)\n",
        "\n",
        "# Graficamos la respuesta en frecuencia\n",
        "fig, (ax1, ax2, ax3) = plt.subplots(3, 1, figsize=(10, 8))\n",
        "ax1.semilogx(w, mag)\n",
        "ax1.set_title('Respuesta en frecuencia')\n",
        "ax1.set_xlabel('Frecuencia [rad/s]')\n",
        "ax1.set_ylabel('Magnitud [dB]')\n",
        "\n",
        "# Graficamos la fase\n",
        "ax2.semilogx(w, phase)\n",
        "ax2.set_title('Fase')\n",
        "ax2.set_xlabel('Frecuencia [rad/s]')\n",
        "ax2.set_ylabel('Fase [grados]')\n",
        "\n",
        "# Graficamos la respuesta al impulso\n",
        "ax3.plot(t, y)\n",
        "ax3.set_title('Respuesta al impulso')\n",
        "ax3.set_xlabel('Tiempo [s]')\n",
        "ax3.set_ylabel('Amplitud')\n",
        "\n",
        "# Ajustamos los espacios entre los subplots\n",
        "plt.subplots_adjust(hspace=0.5)\n",
        "\n",
        "# Mostramos la figura\n",
        "plt.show()\n"
      ],
      "metadata": {
        "colab": {
          "base_uri": "https://localhost:8080/",
          "height": 513
        },
        "id": "-x0th0IbpWY_",
        "outputId": "cb460b4f-3295-4dbb-a296-57c8250c9480"
      },
      "execution_count": 14,
      "outputs": [
        {
          "output_type": "display_data",
          "data": {
            "text/plain": [
              "<Figure size 720x576 with 3 Axes>"
            ],
            "image/png": "[encoded data removed]"
          },
          "metadata": {
            "needs_background": "light"
          }
        }
      ]
    }
  ]
}