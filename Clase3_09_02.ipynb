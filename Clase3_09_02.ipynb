{
  "nbformat": 4,
  "nbformat_minor": 0,
  "metadata": {
    "colab": {
      "provenance": [],
      "authorship_tag": "ABX9TyObf0dBY565y/PKoLL6hMc+",
      "include_colab_link": true
    },
    "kernelspec": {
      "name": "python3",
      "display_name": "Python 3"
    },
    "language_info": {
      "name": "python"
    }
  },
  "cells": [
    {
      "cell_type": "markdown",
      "metadata": {
        "id": "view-in-github",
        "colab_type": "text"
      },
      "source": [
        "<a href=\"https://colab.research.google.com/github/dsrojo10/PDS_UdeA/blob/main/Clase3_09_02.ipynb\" target=\"_parent\"><img src=\"https://colab.research.google.com/assets/colab-badge.svg\" alt=\"Open In Colab\"/></a>"
      ]
    },
    {
      "cell_type": "markdown",
      "source": [
        "# Clase #3 09-Feb-23\n",
        "### David Santiago Rojo C."
      ],
      "metadata": {
        "id": "hagB96rjXNyo"
      }
    },
    {
      "cell_type": "markdown",
      "source": [
        "## Ejemplos monitor:"
      ],
      "metadata": {
        "id": "izXnE36wXVd-"
      }
    },
    {
      "cell_type": "markdown",
      "source": [
        "### Ejemplo 1. Representar una secuencia."
      ],
      "metadata": {
        "id": "TnmO3w7KXYL6"
      }
    },
    {
      "cell_type": "code",
      "execution_count": 1,
      "metadata": {
        "colab": {
          "base_uri": "https://localhost:8080/",
          "height": 334
        },
        "id": "JFxfW9N9XIBV",
        "outputId": "6f18731c-dfdb-48ac-e71b-cc31ded0bf4e"
      },
      "outputs": [
        {
          "output_type": "stream",
          "name": "stderr",
          "text": [
            "<ipython-input-1-31aac1999542>:10: UserWarning: In Matplotlib 3.3 individual lines on a stem plot will be added as a LineCollection instead of individual lines. This significantly improves the performance of a stem plot. To remove this warning and switch to the new behaviour, set the \"use_line_collection\" keyword argument to True.\n",
            "  plt.stem(n, x_n)\n"
          ]
        },
        {
          "output_type": "display_data",
          "data": {
            "text/plain": [
              "<Figure size 432x288 with 1 Axes>"
            ],
            "image/png": "[encoded data removed]"
          },
          "metadata": {
            "needs_background": "light"
          }
        }
      ],
      "source": [
        "# Importar las librerias necesarias\n",
        "import numpy as np\n",
        "import matplotlib.pyplot as plt\n",
        "\n",
        "x_n = [1, 4, 3, 0, 4, 2, 3, 4, 0, 1, 4] # Secuencia\n",
        "n = np.arange(len(x_n))                 # Vector de muestras\n",
        "\n",
        "# Grafica de la secuencia\n",
        "plt.figure()\n",
        "plt.stem(n, x_n)\n",
        "plt.xlabel('Numero de muestras')\n",
        "plt.ylabel('Amplitud')\n",
        "plt.grid()\n",
        "plt.show()"
      ]
    },
    {
      "cell_type": "markdown",
      "source": [
        "### Ejemplo2. Generar señales útiles como el delta, escalón, y rampa."
      ],
      "metadata": {
        "id": "4FRDUk8dXgPE"
      }
    },
    {
      "cell_type": "code",
      "source": [
        "# Importar las librerias necesarias\n",
        "import numpy as np\n",
        "import matplotlib.pyplot as plt"
      ],
      "metadata": {
        "id": "D3RyecQ6XlZV"
      },
      "execution_count": 2,
      "outputs": []
    },
    {
      "cell_type": "markdown",
      "source": [
        "Es muy importante tener bien definido el vector de muestras, este se genera en base N que es el numero de muestras, se recomienda siempre un N impar."
      ],
      "metadata": {
        "id": "UhOA3dY5XoTk"
      }
    },
    {
      "cell_type": "code",
      "source": [
        "N = 9\n",
        "n = np.arange(-N//2+1, N//2+1)"
      ],
      "metadata": {
        "id": "edXIq0yrXqWu"
      },
      "execution_count": 7,
      "outputs": []
    },
    {
      "cell_type": "markdown",
      "source": [
        "1. Función delta"
      ],
      "metadata": {
        "id": "oUVkzkqbXth2"
      }
    },
    {
      "cell_type": "code",
      "source": [
        "delta = np.zeros(N) # Vector de ceros\n",
        "delta[N//2] = 1     # Se pone un uno en la mitad\n",
        "\n",
        "# Grafica de la secuencia\n",
        "plt.figure()\n",
        "plt.title('Función delta')\n",
        "plt.stem(n, delta)\n",
        "plt.xlabel('Numero de muestras')\n",
        "plt.ylabel('Amplitud')\n",
        "plt.grid()\n",
        "plt.show()"
      ],
      "metadata": {
        "colab": {
          "base_uri": "https://localhost:8080/",
          "height": 350
        },
        "id": "50ZQ1KNvXslF",
        "outputId": "0024798c-ff00-47e1-b3f5-fec4b9d7a531"
      },
      "execution_count": 4,
      "outputs": [
        {
          "output_type": "stream",
          "name": "stderr",
          "text": [
            "<ipython-input-4-ce6d17c7d30e>:7: UserWarning: In Matplotlib 3.3 individual lines on a stem plot will be added as a LineCollection instead of individual lines. This significantly improves the performance of a stem plot. To remove this warning and switch to the new behaviour, set the \"use_line_collection\" keyword argument to True.\n",
            "  plt.stem(n, delta)\n"
          ]
        },
        {
          "output_type": "display_data",
          "data": {
            "text/plain": [
              "<Figure size 432x288 with 1 Axes>"
            ],
            "image/png": "[encoded data removed]"
          },
          "metadata": {
            "needs_background": "light"
          }
        }
      ]
    },
    {
      "cell_type": "markdown",
      "source": [
        "2. Función escalón unitario"
      ],
      "metadata": {
        "id": "OthGMaBUXwC8"
      }
    },
    {
      "cell_type": "code",
      "source": [
        "amplitud_escalon = 1    # Amplitud\n",
        "desplazamiento = 1      # Desplazamiento del escalón\n",
        "u = np.heaviside(n-desplazamiento, amplitud_escalon)    # Función escalón\n",
        "\n",
        "# Otra forma de hacerlo:\n",
        "# u = np.piecewise(n, n>=1, [1, 0])\n",
        "\n",
        "# Grafica de la secuencia\n",
        "plt.figure()\n",
        "plt.figure()\n",
        "plt.title('Función escalón unitario')\n",
        "plt.stem(n, u)\n",
        "plt.xlabel('Numero de muestras')\n",
        "plt.ylabel('Amplitud')\n",
        "plt.grid()\n",
        "plt.show()"
      ],
      "metadata": {
        "colab": {
          "base_uri": "https://localhost:8080/",
          "height": 367
        },
        "id": "E799PrsIXyFO",
        "outputId": "a171bf05-c46a-4805-d8a5-0205200a6a53"
      },
      "execution_count": 5,
      "outputs": [
        {
          "output_type": "stream",
          "name": "stderr",
          "text": [
            "<ipython-input-5-9d482ca4bc97>:12: UserWarning: In Matplotlib 3.3 individual lines on a stem plot will be added as a LineCollection instead of individual lines. This significantly improves the performance of a stem plot. To remove this warning and switch to the new behaviour, set the \"use_line_collection\" keyword argument to True.\n",
            "  plt.stem(n, u)\n"
          ]
        },
        {
          "output_type": "display_data",
          "data": {
            "text/plain": [
              "<Figure size 432x288 with 0 Axes>"
            ]
          },
          "metadata": {}
        },
        {
          "output_type": "display_data",
          "data": {
            "text/plain": [
              "<Figure size 432x288 with 1 Axes>"
            ],
            "image/png": "[encoded data removed]"
          },
          "metadata": {
            "needs_background": "light"
          }
        }
      ]
    },
    {
      "cell_type": "markdown",
      "source": [
        "3. Función rampa"
      ],
      "metadata": {
        "id": "OTDdmmtBX2GG"
      }
    },
    {
      "cell_type": "code",
      "source": [
        "rampa = []              # Vector vacío para rellenar\n",
        "desplazamiento2 = 2     # Desplazamiento de la rampa\n",
        "cont = 1                # Contador para generar la rampa\n",
        "for i in range(N):\n",
        "    if (i >= (N//2+1) - desplazamiento2):\n",
        "        rampa.append(cont)\n",
        "        cont += 1\n",
        "    else:\n",
        "        rampa.append(0)\n",
        "\n",
        "# Grafica de la secuencia\n",
        "plt.figure()\n",
        "plt.title('Función rampa')\n",
        "plt.stem(n, rampa)\n",
        "plt.xlabel('Numero de muestras')\n",
        "plt.ylabel('Amplitud')\n",
        "plt.grid()\n",
        "plt.show()"
      ],
      "metadata": {
        "colab": {
          "base_uri": "https://localhost:8080/",
          "height": 350
        },
        "id": "Kjl1__AJX39o",
        "outputId": "46f76a67-a6d3-48f1-df77-2a9d07849877"
      },
      "execution_count": 8,
      "outputs": [
        {
          "output_type": "stream",
          "name": "stderr",
          "text": [
            "<ipython-input-8-092244deb7ae>:14: UserWarning: In Matplotlib 3.3 individual lines on a stem plot will be added as a LineCollection instead of individual lines. This significantly improves the performance of a stem plot. To remove this warning and switch to the new behaviour, set the \"use_line_collection\" keyword argument to True.\n",
            "  plt.stem(n, rampa)\n"
          ]
        },
        {
          "output_type": "display_data",
          "data": {
            "text/plain": [
              "<Figure size 432x288 with 1 Axes>"
            ],
            "image/png": "[encoded data removed]"
          },
          "metadata": {
            "needs_background": "light"
          }
        }
      ]
    },
    {
      "cell_type": "markdown",
      "source": [
        "## Ejemplos mio:"
      ],
      "metadata": {
        "id": "BkS6bQagYdt8"
      }
    },
    {
      "cell_type": "markdown",
      "source": [
        "### Función Exponencial"
      ],
      "metadata": {
        "id": "joRpd_diY98S"
      }
    },
    {
      "cell_type": "code",
      "source": [
        "import numpy as np\n",
        "import matplotlib.pyplot as plt\n",
        "\n",
        "# Definir el dominio\n",
        "N = 9\n",
        "n = np.arange(-N//2+1, N//2+1)\n",
        "\n",
        "# Definir la función exponencial\n",
        "exponencial = np.exp(n)\n",
        "\n",
        "# Graficar la función exponencial\n",
        "plt.figure()\n",
        "plt.title('Función exponencial')\n",
        "plt.stem(n, exponencial)\n",
        "plt.xlabel('Numero de muestras')\n",
        "plt.ylabel('Amplitud')\n",
        "plt.grid()\n",
        "plt.show()"
      ],
      "metadata": {
        "colab": {
          "base_uri": "https://localhost:8080/",
          "height": 350
        },
        "id": "n58WhIzhYs1w",
        "outputId": "cef00624-aeeb-41a6-ae38-c2e74945c480"
      },
      "execution_count": 9,
      "outputs": [
        {
          "output_type": "stream",
          "name": "stderr",
          "text": [
            "<ipython-input-9-4fbd8be46d0c>:14: UserWarning: In Matplotlib 3.3 individual lines on a stem plot will be added as a LineCollection instead of individual lines. This significantly improves the performance of a stem plot. To remove this warning and switch to the new behaviour, set the \"use_line_collection\" keyword argument to True.\n",
            "  plt.stem(n, exponencial)\n"
          ]
        },
        {
          "output_type": "display_data",
          "data": {
            "text/plain": [
              "<Figure size 432x288 with 1 Axes>"
            ],
            "image/png": "[encoded data removed]"
          },
          "metadata": {
            "needs_background": "light"
          }
        }
      ]
    },
    {
      "cell_type": "markdown",
      "source": [
        "### Función Gaussiana"
      ],
      "metadata": {
        "id": "7KSEVxqnZLIM"
      }
    },
    {
      "cell_type": "code",
      "source": [
        "import numpy as np\n",
        "import matplotlib.pyplot as plt\n",
        "\n",
        "# Definir el dominio\n",
        "N = 9\n",
        "n = np.arange(-N//2+1, N//2+1)\n",
        "\n",
        "# Definir la función de Gauss\n",
        "gauss = np.exp(-(n**2)/2)\n",
        "\n",
        "# Graficar la función de Gauss\n",
        "plt.figure()\n",
        "plt.title('Función de Gauss')\n",
        "plt.stem(n, gauss)\n",
        "plt.xlabel('Numero de muestras')\n",
        "plt.ylabel('Amplitud')\n",
        "plt.grid()\n",
        "plt.show()"
      ],
      "metadata": {
        "colab": {
          "base_uri": "https://localhost:8080/",
          "height": 350
        },
        "id": "AGk6brxWZPSq",
        "outputId": "64dc1d4e-f066-4e6e-a464-ee104b54459a"
      },
      "execution_count": 10,
      "outputs": [
        {
          "output_type": "stream",
          "name": "stderr",
          "text": [
            "<ipython-input-10-9055fa8df2b2>:14: UserWarning: In Matplotlib 3.3 individual lines on a stem plot will be added as a LineCollection instead of individual lines. This significantly improves the performance of a stem plot. To remove this warning and switch to the new behaviour, set the \"use_line_collection\" keyword argument to True.\n",
            "  plt.stem(n, gauss)\n"
          ]
        },
        {
          "output_type": "display_data",
          "data": {
            "text/plain": [
              "<Figure size 432x288 with 1 Axes>"
            ],
            "image/png": "[encoded data removed]"
          },
          "metadata": {
            "needs_background": "light"
          }
        }
      ]
    }
  ]
}