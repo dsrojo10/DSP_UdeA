{
  "nbformat": 4,
  "nbformat_minor": 0,
  "metadata": {
    "colab": {
      "provenance": [],
      "authorship_tag": "ABX9TyOI6XuEUDc4Vj3R4dHQaxhS",
      "include_colab_link": true
    },
    "kernelspec": {
      "name": "python3",
      "display_name": "Python 3"
    },
    "language_info": {
      "name": "python"
    }
  },
  "cells": [
    {
      "cell_type": "markdown",
      "metadata": {
        "id": "view-in-github",
        "colab_type": "text"
      },
      "source": [
        "<a href=\"https://colab.research.google.com/github/dsrojo10/PDS_UdeA/blob/main/Clase7_22_02.ipynb\" target=\"_parent\"><img src=\"https://colab.research.google.com/assets/colab-badge.svg\" alt=\"Open In Colab\"/></a>"
      ]
    },
    {
      "cell_type": "markdown",
      "source": [
        "# Clase #7 23-Feb-23\n",
        "### David Santiago Rojo C."
      ],
      "metadata": {
        "id": "iMRv1OzBLysn"
      }
    },
    {
      "cell_type": "markdown",
      "source": [
        "# Ejemplos monitor:\n"
      ],
      "metadata": {
        "id": "lEvVBE8nL4nt"
      }
    },
    {
      "cell_type": "markdown",
      "source": [
        "## Ejemplo 1: Transformada Z"
      ],
      "metadata": {
        "id": "pz4TxynrL8XC"
      }
    },
    {
      "cell_type": "code",
      "execution_count": 1,
      "metadata": {
        "id": "7SSA7cUcLvJt"
      },
      "outputs": [],
      "source": [
        "from sympy import *\n",
        "import numpy as np\n",
        "import matplotlib.pyplot as plt"
      ]
    },
    {
      "cell_type": "markdown",
      "source": [
        "### Transformada Z de una secuencia."
      ],
      "metadata": {
        "id": "PrKk9Xe1MHpg"
      }
    },
    {
      "cell_type": "code",
      "source": [
        "def transZsec(arr, zero):\n",
        "    # La funcion recibe un arreglo quees al cual se le va a sacar la\n",
        "    # transformada y un dato 'zero' que es la posición del cero de la secuencia.\n",
        "    Z = Symbol('Z')\n",
        "    pot = zero\n",
        "    for i in arr:\n",
        "        print(f'X({-pot}) =', i*np.power(Z, pot))\n",
        "        pot -= 1"
      ],
      "metadata": {
        "id": "SOgpvHZpME3Q"
      },
      "execution_count": 2,
      "outputs": []
    },
    {
      "cell_type": "code",
      "source": [
        "arr = np.array([1, 2, 3, 4, 5])\n",
        "arr_trans = transZsec(arr, 2)"
      ],
      "metadata": {
        "colab": {
          "base_uri": "https://localhost:8080/"
        },
        "id": "T6q9t5zhMMfZ",
        "outputId": "3cabdaea-756f-4279-f04d-6510bdc1f34e"
      },
      "execution_count": 3,
      "outputs": [
        {
          "output_type": "stream",
          "name": "stdout",
          "text": [
            "X(-2) = Z**2\n",
            "X(-1) = 2*Z\n",
            "X(0) = 3\n",
            "X(1) = 4/Z\n",
            "X(2) = 5/Z**2\n"
          ]
        }
      ]
    },
    {
      "cell_type": "markdown",
      "source": [
        "### Transformada Z de una función de la forma $a^nu(n)$"
      ],
      "metadata": {
        "id": "gMlllJAlMSsI"
      }
    },
    {
      "cell_type": "code",
      "source": [
        "def transZfunc(a, despla, desplu):\n",
        "    # Esta función recibe el valor de a para calcular la\n",
        "    # transformada por medio de la serie geométrica.\n",
        "    Z = Symbol('Z')\n",
        "    result = ''\n",
        "    if (desplu == despla):\n",
        "        result += str(np.power(Z, -desplu)) + '('\n",
        "    if (desplu != 0):\n",
        "        for i in range(desplu):\n",
        "            result += str(-np.power(a/Z, i))\n",
        "    result += '+' + str(1/(1-a*np.power(Z, -1))) + ')'\n",
        "    return result"
      ],
      "metadata": {
        "id": "nuJ02m_-MZkN"
      },
      "execution_count": 5,
      "outputs": []
    },
    {
      "cell_type": "markdown",
      "source": [
        "Supongamos que se ingresa: $x(n)=(\\frac{1}{4}^{n-1})u(n-1)$\n",
        "  \n"
      ],
      "metadata": {
        "id": "6r-LsxM9Me3z"
      }
    },
    {
      "cell_type": "code",
      "source": [
        "transZfunc(1/4, 1, 1)"
      ],
      "metadata": {
        "colab": {
          "base_uri": "https://localhost:8080/",
          "height": 35
        },
        "id": "9v33vYOwMcOk",
        "outputId": "24051473-2d97-4ff1-8175-875ca1f35b69"
      },
      "execution_count": 6,
      "outputs": [
        {
          "output_type": "execute_result",
          "data": {
            "text/plain": [
              "'1/Z(-1+1/(1 - 0.25/Z))'"
            ],
            "application/vnd.google.colaboratory.intrinsic+json": {
              "type": "string"
            }
          },
          "metadata": {},
          "execution_count": 6
        }
      ]
    },
    {
      "cell_type": "markdown",
      "source": [
        "$X(Z)=-Z^{-1}+\\frac{Z}{1-\\frac{z^-1}{4}}$"
      ],
      "metadata": {
        "id": "UKpsHRCdM-9B"
      }
    },
    {
      "cell_type": "markdown",
      "source": [
        "# Ejemplos mios:"
      ],
      "metadata": {
        "id": "L2nhGqnvNQJl"
      }
    },
    {
      "cell_type": "markdown",
      "source": [
        "### Transformada Z con la función transZfunc()"
      ],
      "metadata": {
        "id": "MH_ftfu7Q8q1"
      }
    },
    {
      "cell_type": "markdown",
      "source": [
        "El siguiente ejemplo muestra cómo utilizar la función transZfunc() para calcular la transformada Z de una función de la forma:\n",
        "$f[n] = (\\frac{1}{4})^n u[n-1] u[-n-1]$"
      ],
      "metadata": {
        "id": "qdbvps1QOg15"
      }
    },
    {
      "cell_type": "markdown",
      "source": [
        "donde $u[n]$ es la función escalón unitario (es igual a 1 para n >= 0 y 0 para n < 0).\n",
        "\n",
        "Para calcular la transformada Z de esta función, podemos utilizar la siguiente propiedad de la transformada Z:\n",
        "\n",
        "$Z{a^n u[n]} = \\frac{1}{(1 - aZ^-1)}$"
      ],
      "metadata": {
        "id": "BChY-spwOt6S"
      }
    },
    {
      "cell_type": "markdown",
      "source": [
        "Por lo tanto, podemos escribir la función $f[n]$ como:\n",
        "\n",
        "$f[n] = \\frac{1}{4}^n u[n-1] u[-n-1]$\n",
        "\n",
        "$\\,\\,\\,\\,\\,\\,\\,\\,\\,\\,\\,\\,\\,= (\\frac{1}{4})^n u[n-1] / (\\frac{1}{4})^(-n) u[-n-1]$\n",
        "\n",
        "$\\,\\,\\,\\,\\,\\,\\,\\,\\,\\,\\,\\,\\,= (\\frac{1}{4})^n u[n-1] / 4^n u[-n-1]$\n",
        "\n",
        "$\\,\\,\\,\\,\\,\\,\\,\\,\\,\\,\\,\\,\\, = \\frac{1}{(4Z)}^n u[n-1] u[-n-1]$"
      ],
      "metadata": {
        "id": "I2K4FU_wOy0x"
      }
    },
    {
      "cell_type": "markdown",
      "source": [
        "Para calcular la transformada Z de $f[n]$ utilizando la función **transZfunc()**, podemos ingresar los siguientes argumentos:"
      ],
      "metadata": {
        "id": "DyOocXEPPjl0"
      }
    },
    {
      "cell_type": "code",
      "source": [
        "transZfunc(1/4, 1, 1)"
      ],
      "metadata": {
        "colab": {
          "base_uri": "https://localhost:8080/",
          "height": 35
        },
        "id": "WUR_x0Q9NuAS",
        "outputId": "4a130f26-82f0-4ff8-9ff9-de7062ebf74a"
      },
      "execution_count": 7,
      "outputs": [
        {
          "output_type": "execute_result",
          "data": {
            "text/plain": [
              "'1/Z(-1+1/(1 - 0.25/Z))'"
            ],
            "application/vnd.google.colaboratory.intrinsic+json": {
              "type": "string"
            }
          },
          "metadata": {},
          "execution_count": 7
        }
      ]
    },
    {
      "cell_type": "markdown",
      "source": [
        "Esto significa que la transformada Z de $f[n]$ es igual a $\\frac{1}{Z(-1+1/(1 - 0.25/Z))}$"
      ],
      "metadata": {
        "id": "D9X-q8q1QvV-"
      }
    }
  ]
}