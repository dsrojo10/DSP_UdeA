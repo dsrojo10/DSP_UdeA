{
  "nbformat": 4,
  "nbformat_minor": 0,
  "metadata": {
    "colab": {
      "provenance": [],
      "authorship_tag": "ABX9TyP+wIReeT9JnoDKV/VzGtm6",
      "include_colab_link": true
    },
    "kernelspec": {
      "name": "python3",
      "display_name": "Python 3"
    },
    "language_info": {
      "name": "python"
    }
  },
  "cells": [
    {
      "cell_type": "markdown",
      "metadata": {
        "id": "view-in-github",
        "colab_type": "text"
      },
      "source": [
        "<a href=\"https://colab.research.google.com/github/dsrojo10/PDS_UdeA/blob/main/Clase5_16_02.ipynb\" target=\"_parent\"><img src=\"https://colab.research.google.com/assets/colab-badge.svg\" alt=\"Open In Colab\"/></a>"
      ]
    },
    {
      "cell_type": "markdown",
      "source": [
        "# Clase #5 16-Feb-23\n",
        "### David Santiago Rojo C."
      ],
      "metadata": {
        "id": "QDAd58axW_dR"
      }
    },
    {
      "cell_type": "markdown",
      "source": [
        "## Ejemplos monitor:"
      ],
      "metadata": {
        "id": "2-PXR-ubXaME"
      }
    },
    {
      "cell_type": "markdown",
      "source": [
        "### Ejemplo 1. Linealidad e Invarianza Temporal"
      ],
      "metadata": {
        "id": "OZi7eht2Xb2C"
      }
    },
    {
      "cell_type": "code",
      "execution_count": null,
      "metadata": {
        "colab": {
          "base_uri": "https://localhost:8080/",
          "height": 338
        },
        "id": "oSQKYj8IW76q",
        "outputId": "0ad26647-3474-48a5-8c77-d76143601439"
      },
      "outputs": [
        {
          "output_type": "stream",
          "name": "stderr",
          "text": [
            "<ipython-input-1-47886e07e8ee>:27: UserWarning: In Matplotlib 3.3 individual lines on a stem plot will be added as a LineCollection instead of individual lines. This significantly improves the performance of a stem plot. To remove this warning and switch to the new behaviour, set the \"use_line_collection\" keyword argument to True.\n",
            "  plt.stem(t, y)\n"
          ]
        },
        {
          "output_type": "display_data",
          "data": {
            "text/plain": [
              "<Figure size 432x288 with 1 Axes>"
            ],
            "image/png": "[encoded data removed]"
          },
          "metadata": {
            "needs_background": "light"
          }
        }
      ],
      "source": [
        "# Importar las librerias necesarias\n",
        "import numpy as np\n",
        "import matplotlib.pyplot as plt\n",
        "\n",
        "def desplazar_nper(secuencia, desplazamiento):\n",
        "    # Toma el desplazamiento, y, mientras el contador sea menor a ese contadorvan a haber ceros,\n",
        "    # luego de eso, se usa el mismo desplazamiento para agarrar los valores que se omitieron por la\n",
        "    # sentencia IF.\n",
        "    secuencia_despl = []\n",
        "    for i in range(len(secuencia)):\n",
        "        if (i < desplazamiento):\n",
        "            secuencia_despl.append(0)\n",
        "        else:\n",
        "            secuencia_despl.append(secuencia[i-desplazamiento])\n",
        "    return secuencia_despl\n",
        "\n",
        "t = np.arange(0, 10)\n",
        "x = lambda k: np.exp(-k) # Prototipo de la función a la que se le aplican las transformaciones\n",
        "x1 = 2*x(t)\n",
        "x2 = desplazar_nper(3*x(t), 1)\n",
        "x3 = desplazar_nper(x(t), 2)\n",
        "\n",
        "y = x1+x2+x3\n",
        "\n",
        "# Grafica de la señal de salida y\n",
        "plt.figure()\n",
        "plt.stem(t, y)\n",
        "plt.xlabel('Numero de muestras')\n",
        "plt.ylabel('Amplitud')\n",
        "plt.ylim([0, 4])\n",
        "plt.grid()\n",
        "plt.show()"
      ]
    },
    {
      "cell_type": "markdown",
      "source": [
        "### Ejemplo 2. Convolución de Señales."
      ],
      "metadata": {
        "id": "ls68rnWOXeVK"
      }
    },
    {
      "cell_type": "code",
      "source": [
        "# Importar las librerias necesarias\n",
        "import numpy as np\n",
        "import matplotlib.pyplot as plt"
      ],
      "metadata": {
        "id": "E_vVWpcIXjyD"
      },
      "execution_count": null,
      "outputs": []
    },
    {
      "cell_type": "markdown",
      "source": [
        "$x(n)=[\\vec{4},3,2]$\\\n",
        "$h(n)=[10,\\vec{20},10]$"
      ],
      "metadata": {
        "id": "sLErtzD7Xl-r"
      }
    },
    {
      "cell_type": "code",
      "source": [
        "# Sabiendo que h(n) tiene el cero en el 20 y x(n) lo tiene en el primer elemento:\n",
        "# N1=0 y N2=-1. M1=2, M2=1. N1+N2 <= n <= M1+M2\n",
        "# El rango debe ser desde [-1,3]\n",
        "n = np.arange(-1,4)\n",
        "h = np.array([10, 20, 10])  # h(n)\n",
        "x = np.array([4, 3, 2])     # x(n)\n",
        "y = np.convolve(h, x)       # Convolución de las señales y(n)\n",
        "# Grafica de la convolución\n",
        "plt.figure()\n",
        "plt.stem(n, y)\n",
        "plt.xlabel('Numero de muestras')\n",
        "plt.ylabel('Amplitud')\n",
        "plt.grid()\n",
        "plt.show()"
      ],
      "metadata": {
        "colab": {
          "base_uri": "https://localhost:8080/",
          "height": 334
        },
        "id": "p4RpwUnxXeq3",
        "outputId": "97b343fd-ab89-4103-c1af-0c36b7a99334"
      },
      "execution_count": null,
      "outputs": [
        {
          "output_type": "stream",
          "name": "stderr",
          "text": [
            "<ipython-input-3-2394fe74e88f>:10: UserWarning: In Matplotlib 3.3 individual lines on a stem plot will be added as a LineCollection instead of individual lines. This significantly improves the performance of a stem plot. To remove this warning and switch to the new behaviour, set the \"use_line_collection\" keyword argument to True.\n",
            "  plt.stem(n, y)\n"
          ]
        },
        {
          "output_type": "display_data",
          "data": {
            "text/plain": [
              "<Figure size 432x288 with 1 Axes>"
            ],
            "image/png": "[encoded data removed]"
          },
          "metadata": {
            "needs_background": "light"
          }
        }
      ]
    },
    {
      "cell_type": "markdown",
      "source": [
        "Otro ejemplo de convolución:\n",
        "\n",
        "$j(n)=[\\vec{-2},0,1,-1,3]$\\\n",
        "$h(n)=[\\vec{1},2,0,-1]$"
      ],
      "metadata": {
        "id": "LZA0t_ZZX4lf"
      }
    },
    {
      "cell_type": "code",
      "source": [
        "# En este caso los ceros de ambos arreglos están en el primer elemento\n",
        "# entonces se sabe que N1=N2=0 y M1=4, M2=3\n",
        "# El rango es entonces: 0 <= n <= 7\n",
        "n2 =np.arange(0, 8)\n",
        "j = np.array([-2, 0, 1, -1, 3])\n",
        "k = np.array([1, 2, 0, -1])\n",
        "z = np.convolve(j, k)\n",
        "\n",
        "# Grafica de la convolución\n",
        "plt.figure()\n",
        "plt.stem(n2, z)\n",
        "plt.xlabel('Numero de muestras')\n",
        "plt.ylabel('Amplitud')\n",
        "plt.grid()\n",
        "plt.show()"
      ],
      "metadata": {
        "colab": {
          "base_uri": "https://localhost:8080/",
          "height": 334
        },
        "id": "uOyxlgRAYMBK",
        "outputId": "727e8479-b4ef-4fcf-9bc8-94fcb90647b4"
      },
      "execution_count": null,
      "outputs": [
        {
          "output_type": "stream",
          "name": "stderr",
          "text": [
            "<ipython-input-4-a3548e084cf3>:11: UserWarning: In Matplotlib 3.3 individual lines on a stem plot will be added as a LineCollection instead of individual lines. This significantly improves the performance of a stem plot. To remove this warning and switch to the new behaviour, set the \"use_line_collection\" keyword argument to True.\n",
            "  plt.stem(n2, z)\n"
          ]
        },
        {
          "output_type": "display_data",
          "data": {
            "text/plain": [
              "<Figure size 432x288 with 1 Axes>"
            ],
            "image/png": "[encoded data removed]"
          },
          "metadata": {
            "needs_background": "light"
          }
        }
      ]
    },
    {
      "cell_type": "markdown",
      "source": [
        "## Ejemplos mios:"
      ],
      "metadata": {
        "id": "bZENPV4Rlp0R"
      }
    },
    {
      "cell_type": "markdown",
      "source": [
        "### Ej1: Convolución de Señales Sinoaidales:"
      ],
      "metadata": {
        "id": "0P9Mi8YJlrzq"
      }
    },
    {
      "cell_type": "code",
      "source": [
        "import numpy as np\n",
        "import matplotlib.pyplot as plt\n",
        "\n",
        "# Señal 1\n",
        "A1 = 2\n",
        "f1 = 1/8\n",
        "n1 = np.arange(0, 8)\n",
        "s1 = A1 * np.sin(2 * np.pi * f1 * n1)\n",
        "\n",
        "# Señal 2\n",
        "A2 = 1\n",
        "f2 = 1/4\n",
        "n2 = np.arange(0, 8)\n",
        "s2 = A2 * np.sin(2 * np.pi * f2 * n2)\n",
        "\n",
        "# Realizamos la convolución\n",
        "z = np.convolve(s1, s2)\n",
        "\n",
        "# Graficamos las señales originales\n",
        "plt.figure(figsize=(10, 10))\n",
        "plt.subplot(311)\n",
        "plt.stem(n1, s1)\n",
        "plt.ylabel('Amplitud')\n",
        "plt.title('Señal 1')\n",
        "plt.grid()\n",
        "\n",
        "plt.subplot(312)\n",
        "plt.stem(n2, s2)\n",
        "plt.ylabel('Amplitud')\n",
        "plt.title('Señal 2')\n",
        "plt.grid()\n",
        "\n",
        "# Graficamos la convolución\n",
        "n = np.arange(0, len(z))\n",
        "plt.subplot(313)\n",
        "plt.stem(n, z)\n",
        "plt.xlabel('Número de muestras')\n",
        "plt.ylabel('Amplitud')\n",
        "plt.title('Convolución de las señales')\n",
        "plt.grid()\n",
        "\n",
        "plt.tight_layout()\n",
        "plt.show()"
      ],
      "metadata": {
        "colab": {
          "base_uri": "https://localhost:8080/",
          "height": 853
        },
        "id": "xgQ5wC8gmYt-",
        "outputId": "d09a6388-00ef-4231-a696-a7347bda654f"
      },
      "execution_count": null,
      "outputs": [
        {
          "output_type": "stream",
          "name": "stderr",
          "text": [
            "<ipython-input-4-ca6a061ac130>:22: UserWarning: In Matplotlib 3.3 individual lines on a stem plot will be added as a LineCollection instead of individual lines. This significantly improves the performance of a stem plot. To remove this warning and switch to the new behaviour, set the \"use_line_collection\" keyword argument to True.\n",
            "  plt.stem(n1, s1)\n",
            "<ipython-input-4-ca6a061ac130>:28: UserWarning: In Matplotlib 3.3 individual lines on a stem plot will be added as a LineCollection instead of individual lines. This significantly improves the performance of a stem plot. To remove this warning and switch to the new behaviour, set the \"use_line_collection\" keyword argument to True.\n",
            "  plt.stem(n2, s2)\n",
            "<ipython-input-4-ca6a061ac130>:36: UserWarning: In Matplotlib 3.3 individual lines on a stem plot will be added as a LineCollection instead of individual lines. This significantly improves the performance of a stem plot. To remove this warning and switch to the new behaviour, set the \"use_line_collection\" keyword argument to True.\n",
            "  plt.stem(n, z)\n"
          ]
        },
        {
          "output_type": "display_data",
          "data": {
            "text/plain": [
              "<Figure size 720x720 with 3 Axes>"
            ],
            "image/png": "[encoded data removed]"
          },
          "metadata": {
            "needs_background": "light"
          }
        }
      ]
    },
    {
      "cell_type": "markdown",
      "source": [
        "* En la gráfica resultante se puede ver que la convolución de las dos señales senoidales produce una señal con una forma compleja, que no se parece a ninguna de las señales de entrada. Esta es una característica común de la convolución: a menudo se utilizan para combinar señales y extraer información de una señal a través de otra. En este caso, la convolución nos da información sobre la relación entre las dos señales senoidales.\n",
        "\n",
        "* Con las señales senoidales utilizadas, la convolución nos muestra cómo las dos señales se superponen y combinan a medida que una de ellas se desplaza en el tiempo. En la gráfica de la convolución, se puede observar que hay varios puntos en los que la suma de las muestras de las dos señales de entrada es máxima, y otros en los que es mínima. La posición y amplitud de estos picos y valles nos da información sobre la frecuencia y fase relativa de las dos señales senoidales. Por ejemplo, se puede inferir que las dos señales senoidales tienen diferentes frecuencias y fases, debido a la complejidad de la forma de onda resultante de la convolución."
      ],
      "metadata": {
        "id": "fGi4_AV6nu_q"
      }
    }
  ]
}